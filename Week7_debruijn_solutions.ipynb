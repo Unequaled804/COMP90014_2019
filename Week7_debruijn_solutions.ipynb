{
 "cells": [
  {
   "cell_type": "markdown",
   "metadata": {},
   "source": [
    "# Week 7 lab - de novo assembly with De Bruijn graphs"
   ]
  },
  {
   "cell_type": "markdown",
   "metadata": {},
   "source": [
    "For this week's lab you'll be writing programs to count k-mers and to find the edges of a de Bruijn graph.\n",
    "\n",
    "As a reminder, we have a relevant tutorial document intended for those new to programming or learning Python: <a href=\"kmer_workshop.html\">kmer-counting tutorial</a>. The first couple of challenges below are covered (more gently) in this tutorial. By now you have probably already learned the programming concepts in the tutorial, but you might still find it worth looking at the [Dictionaries: algorithmic considerations](kmer_workshop.html#dictionaries) section. "
   ]
  },
  {
   "cell_type": "markdown",
   "metadata": {},
   "source": [
    "## Data "
   ]
  },
  {
   "cell_type": "markdown",
   "metadata": {},
   "source": [
    "We'll define some toy \"reads\" from English strings, which you can use to see your functions in action."
   ]
  },
  {
   "cell_type": "code",
   "execution_count": 1,
   "metadata": {},
   "outputs": [
    {
     "data": {
      "text/plain": [
       "['ters_no',\n",
       " 'ers_not',\n",
       " 'matners',\n",
       " 'size_ma',\n",
       " 'tters_',\n",
       " 'atters_n',\n",
       " 'size_m',\n",
       " 'e_matter']"
      ]
     },
     "execution_count": 1,
     "metadata": {},
     "output_type": "execute_result"
    }
   ],
   "source": [
    "yoda_reads = '''\n",
    "ters_no\n",
    "ers_not\n",
    "matners\n",
    "size_ma\n",
    "tters_\n",
    "atters_n\n",
    "size_m\n",
    "e_matter'''.strip().split(\"\\n\")\n",
    "yoda_reads"
   ]
  },
  {
   "cell_type": "code",
   "execution_count": 2,
   "metadata": {},
   "outputs": [],
   "source": [
    "caesar_reads = '''\n",
    "_your_e\n",
    "l,nd_me\n",
    "nd_me_y\n",
    "d_me_y\n",
    "omans,_\n",
    "s,_coun\n",
    "me_you\n",
    "eids,_\n",
    "mans,_c\n",
    "our_ea\n",
    "'''.strip().split(\"\\n\")"
   ]
  },
  {
   "cell_type": "code",
   "execution_count": 3,
   "metadata": {},
   "outputs": [],
   "source": [
    "# a version with no read errors\n",
    "caesar_reads_perfect = '''\n",
    "me_your_e\n",
    "ymen,_len\n",
    "_your_e\n",
    "ds,_Roma\n",
    "nds,_Roma\n",
    "trymen,_\n",
    "lend_me_\n",
    "omans,_co\n",
    "n,_lend_\n",
    "riends,_R\n",
    "ntrymen\n",
    ",_country\n",
    "e_your_ears\n",
    "untryme\n",
    "riends,_\n",
    "'''.strip().split(\"\\n\")"
   ]
  },
  {
   "cell_type": "markdown",
   "metadata": {},
   "source": [
    "And some error-free \"reads\" from a very small tRNA gene:"
   ]
  },
  {
   "cell_type": "code",
   "execution_count": 4,
   "metadata": {},
   "outputs": [],
   "source": [
    "mt_te_reads = '''TGTAGTTGAAATACAACGAT\n",
    "GGTCGTGGTTGTAGTCCGTGC\n",
    "TGGTCGTGGTTGTAGTCCG\n",
    "TATCATTGGTCGTGGTTGTAG\n",
    "TTGTAGTTGAAATACAACGAT\n",
    "ATCATTGGTCGTGGTTGTAG\n",
    "ATGGTTTTTCATATCATTGG\n",
    "GGTTTTTCATATCATTGGTCGT\n",
    "GGTCGTGGTTGTAGTCCGT\n",
    "TCATTGGTCGTGGTTGTAGTCC\n",
    "GGTCGTGGTTGTAGTCCGTGCG\n",
    "GATGGTTTTTCATATCATT\n",
    "TGGTCGTGGTTGTAGTCC\n",
    "AACGATGGTTTTTCATATCA\n",
    "GGTTTTTCATATCATTGGTCG\n",
    "GTTTTTCATATCATTGGTCGTG\n",
    "ATTGGTCGTGGTTGTAGTCCGT\n",
    "AACGATGGTTTTTCATAT\n",
    "GTTTTTCATATCATTGGT\n",
    "AACGATGGTTTTTCATAT'''.strip().split()"
   ]
  },
  {
   "cell_type": "markdown",
   "metadata": {},
   "source": [
    "## Counting k-mers "
   ]
  },
  {
   "cell_type": "markdown",
   "metadata": {},
   "source": [
    "**Exercise 1:**\n",
    "\n",
    "Complete the function below to return all the k-mers from a given string. "
   ]
  },
  {
   "cell_type": "code",
   "execution_count": 6,
   "metadata": {},
   "outputs": [],
   "source": [
    "def get_string_kmers(read, k):\n",
    "    '''\n",
    "    Return a set of all k-mers of length k from string read.\n",
    "    '''\n",
    "    # Note that if k > len(read), a negative num_kmers will just return an empty list, which is fine\n",
    "    num_kmers = len(read)-k+1\n",
    "    # We could use a list comprehension for conciseness, set([read[i:i+k] for i in range(num_kmers)])\n",
    "    # but this would potentially make a large temporary list in memory\n",
    "    kmers = set()\n",
    "    for i in range(num_kmers):\n",
    "        kmers.add(read[i:i+k])\n",
    "    return kmers"
   ]
  },
  {
   "cell_type": "code",
   "execution_count": 7,
   "metadata": {},
   "outputs": [
    {
     "data": {
      "text/plain": [
       "{'_yo', 'our', 'r_e', 'ur_', 'you'}"
      ]
     },
     "execution_count": 7,
     "metadata": {},
     "output_type": "execute_result"
    }
   ],
   "source": [
    "get_string_kmers(caesar_reads[0], 3)"
   ]
  },
  {
   "cell_type": "markdown",
   "metadata": {},
   "source": [
    "**Exercise 2:**\n",
    "\n",
    "Write a function which applies `get_string_kmers()` to a list of strings and returns all kmers."
   ]
  },
  {
   "cell_type": "code",
   "execution_count": 8,
   "metadata": {},
   "outputs": [],
   "source": [
    "# A version using *list syntax to pass all sets to set.union()\n",
    "def get_kmers(reads, k):\n",
    "    '''\n",
    "    Given a list of strings representing reads, and a value k, \n",
    "    return a set of all k-mers of length k.\n",
    "    '''\n",
    "    return set.union(*[get_string_kmers(r,k) for r in reads])"
   ]
  },
  {
   "cell_type": "code",
   "execution_count": 10,
   "metadata": {},
   "outputs": [],
   "source": [
    "# A version using a loop and set.update()\n",
    "def get_kmers(reads, k):\n",
    "    '''\n",
    "    Given a list of strings representing reads, and a value k, \n",
    "    return a set of all k-mers of length k.\n",
    "    '''\n",
    "    all_kmers = set()\n",
    "    for read in reads:\n",
    "        all_kmers.update(get_string_kmers(read,k))\n",
    "    return all_kmers"
   ]
  },
  {
   "cell_type": "code",
   "execution_count": 11,
   "metadata": {},
   "outputs": [
    {
     "data": {
      "text/plain": [
       "{',_cou',\n",
       " ',nd_m',\n",
       " '_coun',\n",
       " '_me_y',\n",
       " '_your',\n",
       " 'ans,_',\n",
       " 'd_me_',\n",
       " 'e_you',\n",
       " 'eids,',\n",
       " 'ids,_',\n",
       " 'l,nd_',\n",
       " 'mans,',\n",
       " 'me_yo',\n",
       " 'nd_me',\n",
       " 'ns,_c',\n",
       " 'omans',\n",
       " 'our_e',\n",
       " 's,_co',\n",
       " 'ur_ea',\n",
       " 'your_'}"
      ]
     },
     "execution_count": 11,
     "metadata": {},
     "output_type": "execute_result"
    }
   ],
   "source": [
    "get_kmers(caesar_reads, 5)"
   ]
  },
  {
   "cell_type": "markdown",
   "metadata": {},
   "source": [
    "## Building a graph with networkx"
   ]
  },
  {
   "cell_type": "markdown",
   "metadata": {},
   "source": [
    "We could represent a graph using Python data structures. For instance, here is one way to represent a graph where nodes B and C are linked from A:\n",
    "    \n",
    "    B <- A -> C\n"
   ]
  },
  {
   "cell_type": "code",
   "execution_count": 12,
   "metadata": {},
   "outputs": [],
   "source": [
    "nodes = ['A','B','C']\n",
    "edges = [('A','B'), ('A','C')]"
   ]
  },
  {
   "cell_type": "markdown",
   "metadata": {},
   "source": [
    "Notice that a tree is a kind of graph, and we have already built trees using data structures in past labs.\n",
    "\n",
    "This time we'll use a library `networkx` intended specifically for graph manipulation."
   ]
  },
  {
   "cell_type": "code",
   "execution_count": 13,
   "metadata": {},
   "outputs": [],
   "source": [
    "import matplotlib.pylab as plt\n",
    "import networkx as nx"
   ]
  },
  {
   "cell_type": "markdown",
   "metadata": {},
   "source": [
    "Here's how to build that same graph in networkx. Note that we use `DiGraph` instead of `Graph`, which gives a directed graph."
   ]
  },
  {
   "cell_type": "code",
   "execution_count": 14,
   "metadata": {},
   "outputs": [],
   "source": [
    "g = nx.DiGraph()\n",
    "g.add_edge('A','B')\n",
    "g.add_edge('A','C')"
   ]
  },
  {
   "cell_type": "markdown",
   "metadata": {},
   "source": [
    "We could have explicitly added nodes with code like `g.add_node('A')`, but since every node is connected to at least one edge in this case, networkx automatically adds the nodes for us when the edges are added. \n",
    "\n",
    "Remember you can look at networkx method documentation with `?` or `help()`. Have a look at the documentation for the `add_edge` method."
   ]
  },
  {
   "cell_type": "code",
   "execution_count": 15,
   "metadata": {},
   "outputs": [
    {
     "data": {
      "text/plain": [
       "NodeView(('A', 'B', 'C'))"
      ]
     },
     "execution_count": 15,
     "metadata": {},
     "output_type": "execute_result"
    }
   ],
   "source": [
    "g.nodes()"
   ]
  },
  {
   "cell_type": "code",
   "execution_count": 16,
   "metadata": {},
   "outputs": [
    {
     "data": {
      "text/plain": [
       "OutEdgeView([('A', 'B'), ('A', 'C')])"
      ]
     },
     "execution_count": 16,
     "metadata": {},
     "output_type": "execute_result"
    }
   ],
   "source": [
    "g.edges()"
   ]
  },
  {
   "cell_type": "markdown",
   "metadata": {},
   "source": [
    "Here's a way to draw the graph with a spring layout, where networkx will try to place nodes so they are not too close together. This is a simple layout algorithm - it's easy to see the result for this tiny graph, but may be difficult see for graphs of any size. The layout is somewhat random and for larger graphs, will be different every time you draw it."
   ]
  },
  {
   "cell_type": "code",
   "execution_count": 17,
   "metadata": {},
   "outputs": [
    {
     "data": {
      "image/png": "[encoded data removed]",
      "text/plain": [
       "<Figure size 432x288 with 1 Axes>"
      ]
     },
     "metadata": {},
     "output_type": "display_data"
    }
   ],
   "source": [
    "nx.draw_spring(g, with_labels=True)"
   ]
  },
  {
   "cell_type": "code",
   "execution_count": 18,
   "metadata": {},
   "outputs": [
    {
     "data": {
      "image/png": "[encoded data removed]",
      "text/plain": [
       "<Figure size 432x288 with 1 Axes>"
      ]
     },
     "metadata": {},
     "output_type": "display_data"
    }
   ],
   "source": [
    "nx.draw_spring(g, with_labels=True, node_size=1200, node_color='#eeeeff', edge_color='red')"
   ]
  },
  {
   "cell_type": "markdown",
   "metadata": {},
   "source": [
    "**Exercise 3:**\n",
    "\n",
    "Write functions `get_suffix()` and `get_prefix()` which just return the `k-1`-length strings which are, respectively the suffix and prefix of the supplied k-mer."
   ]
  },
  {
   "cell_type": "code",
   "execution_count": 19,
   "metadata": {},
   "outputs": [],
   "source": [
    "def get_prefix(kmer):\n",
    "    '''Return the prefix of the string (all but the last character).'''\n",
    "    return kmer[:-1]\n",
    "\n",
    "def get_suffix(kmer):\n",
    "    '''Return the suffix of the string (all but the first character)'''\n",
    "    return kmer[1:]"
   ]
  },
  {
   "cell_type": "code",
   "execution_count": 20,
   "metadata": {},
   "outputs": [
    {
     "data": {
      "text/plain": [
       "'GGTA'"
      ]
     },
     "execution_count": 20,
     "metadata": {},
     "output_type": "execute_result"
    }
   ],
   "source": [
    "get_suffix('AGGTA')"
   ]
  },
  {
   "cell_type": "code",
   "execution_count": 21,
   "metadata": {},
   "outputs": [
    {
     "data": {
      "text/plain": [
       "'AGGT'"
      ]
     },
     "execution_count": 21,
     "metadata": {},
     "output_type": "execute_result"
    }
   ],
   "source": [
    "get_prefix('AGGTA')"
   ]
  },
  {
   "cell_type": "markdown",
   "metadata": {},
   "source": [
    "**Exercise 4:**"
   ]
  },
  {
   "cell_type": "markdown",
   "metadata": {},
   "source": [
    "Given a set of reads and a value k, build a directed graph, using networkx, where nodes are the prefixes/suffixes of kmers and an edge exists for every kmer."
   ]
  },
  {
   "cell_type": "code",
   "execution_count": 22,
   "metadata": {},
   "outputs": [],
   "source": [
    "def build_graph(reads, k):\n",
    "    '''\n",
    "    Given a set of reads and a value k, return the networkx de Bruijn graph object.\n",
    "    '''\n",
    "    kmers = get_kmers(reads, k)\n",
    "    graph = nx.DiGraph()\n",
    "    for kmer in kmers:\n",
    "        graph.add_edge(get_prefix(kmer),get_suffix(kmer))\n",
    "    return graph"
   ]
  },
  {
   "cell_type": "code",
   "execution_count": 23,
   "metadata": {},
   "outputs": [],
   "source": [
    "yoda_graph = build_graph(yoda_reads, 4)"
   ]
  },
  {
   "cell_type": "code",
   "execution_count": 43,
   "metadata": {},
   "outputs": [
    {
     "data": {
      "image/png": "[encoded data removed]",
      "text/plain": [
       "<Figure size 432x288 with 1 Axes>"
      ]
     },
     "metadata": {},
     "output_type": "display_data"
    }
   ],
   "source": [
    "nx.draw_spring(yoda_graph, with_labels=True, node_size=1200, edge_color='red')"
   ]
  },
  {
   "cell_type": "markdown",
   "metadata": {},
   "source": [
    "**Challenge:** If you want a challenge, you can try to extract contigs from your graph as described in lectures. To extract a contig, we need to find an unbalanced node, then walk along the directed graph only so long as our path is unambiguous.\n",
    "\n",
    "You can find the in-degree and out-degree of nodes (number of edges leading in and out), and the edges themselves, with networkx methods like so:"
   ]
  },
  {
   "cell_type": "code",
   "execution_count": 104,
   "metadata": {},
   "outputs": [],
   "source": [
    "g = nx.DiGraph()\n",
    "g.add_edge('A','B')\n",
    "g.add_edge('A','C')"
   ]
  },
  {
   "cell_type": "code",
   "execution_count": 105,
   "metadata": {},
   "outputs": [
    {
     "data": {
      "text/plain": [
       "0"
      ]
     },
     "execution_count": 105,
     "metadata": {},
     "output_type": "execute_result"
    }
   ],
   "source": [
    "g.in_degree('A')"
   ]
  },
  {
   "cell_type": "code",
   "execution_count": 106,
   "metadata": {},
   "outputs": [
    {
     "data": {
      "text/plain": [
       "2"
      ]
     },
     "execution_count": 106,
     "metadata": {},
     "output_type": "execute_result"
    }
   ],
   "source": [
    "g.out_degree('A')"
   ]
  },
  {
   "cell_type": "code",
   "execution_count": 109,
   "metadata": {},
   "outputs": [
    {
     "data": {
      "text/plain": [
       "OutEdgeDataView([('A', 'B'), ('A', 'C')])"
      ]
     },
     "execution_count": 109,
     "metadata": {},
     "output_type": "execute_result"
    }
   ],
   "source": [
    "g.out_edges('A')"
   ]
  }
 ],
 "metadata": {
  "kernelspec": {
   "display_name": "Python 3",
   "language": "python",
   "name": "python3"
  },
  "language_info": {
   "codemirror_mode": {
    "name": "ipython",
    "version": 3
   },
   "file_extension": ".py",
   "mimetype": "text/x-python",
   "name": "python",
   "nbconvert_exporter": "python",
   "pygments_lexer": "ipython3",
   "version": "3.6.4"
  }
 },
 "nbformat": 4,
 "nbformat_minor": 2
}
