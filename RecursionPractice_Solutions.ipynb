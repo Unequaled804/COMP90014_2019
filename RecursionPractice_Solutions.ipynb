{
 "cells": [
  {
   "cell_type": "markdown",
   "metadata": {},
   "source": [
    "# Week 1 - Recursion "
   ]
  },
  {
   "cell_type": "markdown",
   "metadata": {},
   "source": [
    "## Recursion\n",
    "This is an explanation of recursion modified from this link: https://www.freecodecamp.org/news/how-recursion-works-explained-with-flowcharts-and-a-video-de61f40cb7f9/\n",
    "\n",
    "All illustrations in this tutorial by Adit Bhargava"
   ]
  },
  {
   "cell_type": "markdown",
   "metadata": {},
   "source": [
    "Right, so lets imagine you have a box in front of you which is filled with a bunch of other boxes. One of the inner boxes contains a key that you want. "
   ]
  },
  {
   "cell_type": "markdown",
   "metadata": {},
   "source": [
    "<img src=\"img/Boxes.png\" alt=\"Boxes\" />"
   ]
  },
  {
   "cell_type": "markdown",
   "metadata": {},
   "source": [
    "Obviously in real life you would look through the boxes one by one until you find the key. However there are 2 different ways you could go about programming this: "
   ]
  },
  {
   "cell_type": "markdown",
   "metadata": {},
   "source": [
    "<img src = \"img/options.png\" alt= \"iterative vs recursive\"/>"
   ]
  },
  {
   "cell_type": "markdown",
   "metadata": {},
   "source": [
    "Some Pseudocode for the **iterative** approach would be: \n",
    "~~~python\n",
    "    def findKey(main_box):\n",
    "        # unpack all boxes and put them into a pile \n",
    "        # remember that boxes can contain other boxes\n",
    "        pile_of_boxes = main_box.unpack_all_boxes()\n",
    "        # while your pile of boxes isnt empty look through each one\n",
    "        while len(pile_of_boxes) > 0:\n",
    "            box = pile_of_nested_boxes.get_next_box()\n",
    "            for item in box:\n",
    "                if type(item) == box:\n",
    "                    pile_of_boxes.append(item)\n",
    "                else if type(item) == key:\n",
    "                    print(\"found the key!\")\n",
    "~~~\n",
    "\n"
   ]
  },
  {
   "cell_type": "markdown",
   "metadata": {},
   "source": [
    "\n",
    "Some Pseudocode for the **recursive** approach would be: \n",
    "\n",
    "~~~python\n",
    "    def findKey(main_box):\n",
    "        # go through your pile of boxes \n",
    "        # if you find a box in a box start the process over\n",
    "        for item in box:\n",
    "            if type(item) == key:\n",
    "                print(\"found the key!\")\n",
    "            else if type(item) == box:\n",
    "                findKey(item)               \n",
    "~~~"
   ]
  },
  {
   "cell_type": "markdown",
   "metadata": {},
   "source": [
    "#### To Note\n",
    "Both approaches achieve the same thing. The main purpose here for using recursion is that once you understand it, it will be much easier to read. The iterative apporach can sometimes be faster but the simplicity is sometimes preferred. \n",
    "\n",
    "**Beware of infinite loops**, this occurs when the function keeps calling itself and never ends.\n",
    "\n",
    "When this happens you have to kill the code otherwise it'll run forever. You can do that using the stop button above ^ \n",
    "\n",
    "To give an example of an infinite loop, imagine you want to wite a function that counts down. \n",
    "You could do it recursively:\n",
    "~~~python\n",
    "    def countdown(i):\n",
    "        print(i)\n",
    "        countdown(i-1)\n",
    "~~~\n",
    "However since you never told the program to end it will continue counting down forever.\n",
    "A recursive function always has to say when to stop repeating itself. **There should always be two parts to a recursive function: the recursive case and the base case.** The recursive case is when the function calls itself. The base case is when the function stops calling itself. This prevents infinite loops.\n",
    "\n",
    "e.g. the above can be rewritten: "
   ]
  },
  {
   "cell_type": "code",
   "execution_count": null,
   "metadata": {},
   "outputs": [],
   "source": [
    "def countdown(i):\n",
    "    print(i)\n",
    "    if i <= 1:\n",
    "       return 1:\n",
    "    else:\n",
    "        countdown(i-1)"
   ]
  },
  {
   "cell_type": "code",
   "execution_count": 9,
   "metadata": {},
   "outputs": [
    {
     "name": "stdout",
     "output_type": "stream",
     "text": [
      "2\n",
      "1\n"
     ]
    }
   ],
   "source": [
    "countdown(2)"
   ]
  },
  {
   "cell_type": "markdown",
   "metadata": {},
   "source": [
    "<img src=\"img/countdown.png\" alt=\"baseCase\"/>"
   ]
  },
  {
   "cell_type": "markdown",
   "metadata": {},
   "source": [
    "## Now its your turn \n",
    "Lets practice with the most classic example - the factorial. \n",
    "A factorial can be written as 5! which is defined as: 5! = 5*4*3*2*1\n",
    "\n",
    "Write a function that calculates the factorial"
   ]
  },
  {
   "cell_type": "code",
   "execution_count": 6,
   "metadata": {},
   "outputs": [],
   "source": [
    "def factorial(num):\n",
    "    print(num, \"*\")\n",
    "    # Replace the code below so that we calculate the factorial instead \n",
    "    # of just returning 0\n",
    "    if num == 1 :\n",
    "        return 1\n",
    "    else:\n",
    "        return num * factorial(num-1)"
   ]
  },
  {
   "cell_type": "code",
   "execution_count": 7,
   "metadata": {},
   "outputs": [
    {
     "name": "stdout",
     "output_type": "stream",
     "text": [
      "5 *\n",
      "4 *\n",
      "3 *\n",
      "2 *\n",
      "1 *\n"
     ]
    }
   ],
   "source": [
    "num = 5\n",
    "assert factorial(num) == 120"
   ]
  },
  {
   "cell_type": "code",
   "execution_count": null,
   "metadata": {},
   "outputs": [],
   "source": []
  }
 ],
 "metadata": {
  "kernelspec": {
   "display_name": "Python 3",
   "language": "python",
   "name": "python3"
  },
  "language_info": {
   "codemirror_mode": {
    "name": "ipython",
    "version": 3
   },
   "file_extension": ".py",
   "mimetype": "text/x-python",
   "name": "python",
   "nbconvert_exporter": "python",
   "pygments_lexer": "ipython3",
   "version": "3.6.4"
  }
 },
 "nbformat": 4,
 "nbformat_minor": 2
}
